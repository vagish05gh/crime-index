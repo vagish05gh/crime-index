{
 "cells": [
  {
   "cell_type": "code",
   "execution_count": 1,
   "id": "954bbbf7-d107-4a67-a77c-bd13411732f8",
   "metadata": {},
   "outputs": [],
   "source": [
    "# PREDICTION OF CRIME INDEX USING SENTENCED DATA"
   ]
  },
  {
   "cell_type": "code",
   "execution_count": 3,
   "id": "0075950a-6f5c-4d5b-a415-514aa78b8fd1",
   "metadata": {},
   "outputs": [],
   "source": [
    "# IMPORTING THE REQUIRED LIBRARIRES\n",
    "import pandas as pd\n",
    "from sklearn.model_selection import train_test_split\n",
    "from sklearn.linear_model import LinearRegression \n",
    "from sklearn.metrics import mean_squared_error, r2_score"
   ]
  },
  {
   "cell_type": "code",
   "execution_count": 4,
   "id": "a4c4f31c-7389-4c01-bce0-8904e985fb35",
   "metadata": {},
   "outputs": [],
   "source": [
    "#LOADING THE REQUIRED DATASETS\n",
    "df1=pd.read_csv(\"crime-index-2023.csv\")"
   ]
  },
  {
   "cell_type": "code",
   "execution_count": 5,
   "id": "ad8a9e5e-386e-41c8-be8f-8f0915c2d41f",
   "metadata": {},
   "outputs": [
    {
     "data": {
      "text/html": [
       "<div>\n",
       "<style scoped>\n",
       "    .dataframe tbody tr th:only-of-type {\n",
       "        vertical-align: middle;\n",
       "    }\n",
       "\n",
       "    .dataframe tbody tr th {\n",
       "        vertical-align: top;\n",
       "    }\n",
       "\n",
       "    .dataframe thead th {\n",
       "        text-align: right;\n",
       "    }\n",
       "</style>\n",
       "<table border=\"1\" class=\"dataframe\">\n",
       "  <thead>\n",
       "    <tr style=\"text-align: right;\">\n",
       "      <th></th>\n",
       "      <th>Rank</th>\n",
       "      <th>City</th>\n",
       "      <th>Country</th>\n",
       "      <th>Crime Index</th>\n",
       "      <th>Safety Index</th>\n",
       "    </tr>\n",
       "  </thead>\n",
       "  <tbody>\n",
       "    <tr>\n",
       "      <th>0</th>\n",
       "      <td>1</td>\n",
       "      <td>Caracas</td>\n",
       "      <td>Venezuela</td>\n",
       "      <td>83.6</td>\n",
       "      <td>16.4</td>\n",
       "    </tr>\n",
       "    <tr>\n",
       "      <th>1</th>\n",
       "      <td>2</td>\n",
       "      <td>Pretoria</td>\n",
       "      <td>South Africa</td>\n",
       "      <td>82.0</td>\n",
       "      <td>18.0</td>\n",
       "    </tr>\n",
       "    <tr>\n",
       "      <th>2</th>\n",
       "      <td>3</td>\n",
       "      <td>Durban</td>\n",
       "      <td>South Africa</td>\n",
       "      <td>81.0</td>\n",
       "      <td>19.0</td>\n",
       "    </tr>\n",
       "    <tr>\n",
       "      <th>3</th>\n",
       "      <td>4</td>\n",
       "      <td>Port Moresby</td>\n",
       "      <td>Papua New Guinea</td>\n",
       "      <td>80.7</td>\n",
       "      <td>19.3</td>\n",
       "    </tr>\n",
       "    <tr>\n",
       "      <th>4</th>\n",
       "      <td>5</td>\n",
       "      <td>Johannesburg</td>\n",
       "      <td>South Africa</td>\n",
       "      <td>80.7</td>\n",
       "      <td>19.3</td>\n",
       "    </tr>\n",
       "    <tr>\n",
       "      <th>...</th>\n",
       "      <td>...</td>\n",
       "      <td>...</td>\n",
       "      <td>...</td>\n",
       "      <td>...</td>\n",
       "      <td>...</td>\n",
       "    </tr>\n",
       "    <tr>\n",
       "      <th>411</th>\n",
       "      <td>412</td>\n",
       "      <td>Sharjah</td>\n",
       "      <td>United Arab Emirates</td>\n",
       "      <td>15.9</td>\n",
       "      <td>84.1</td>\n",
       "    </tr>\n",
       "    <tr>\n",
       "      <th>412</th>\n",
       "      <td>413</td>\n",
       "      <td>Ajman</td>\n",
       "      <td>United Arab Emirates</td>\n",
       "      <td>15.5</td>\n",
       "      <td>84.5</td>\n",
       "    </tr>\n",
       "    <tr>\n",
       "      <th>413</th>\n",
       "      <td>414</td>\n",
       "      <td>Taipei</td>\n",
       "      <td>Taiwan</td>\n",
       "      <td>15.1</td>\n",
       "      <td>84.9</td>\n",
       "    </tr>\n",
       "    <tr>\n",
       "      <th>414</th>\n",
       "      <td>415</td>\n",
       "      <td>Doha</td>\n",
       "      <td>Qatar</td>\n",
       "      <td>14.5</td>\n",
       "      <td>85.5</td>\n",
       "    </tr>\n",
       "    <tr>\n",
       "      <th>415</th>\n",
       "      <td>416</td>\n",
       "      <td>Abu Dhabi</td>\n",
       "      <td>United Arab Emirates</td>\n",
       "      <td>11.2</td>\n",
       "      <td>88.8</td>\n",
       "    </tr>\n",
       "  </tbody>\n",
       "</table>\n",
       "<p>416 rows × 5 columns</p>\n",
       "</div>"
      ],
      "text/plain": [
       "     Rank          City                Country  Crime Index  Safety Index\n",
       "0       1       Caracas              Venezuela         83.6          16.4\n",
       "1       2      Pretoria           South Africa         82.0          18.0\n",
       "2       3        Durban           South Africa         81.0          19.0\n",
       "3       4  Port Moresby       Papua New Guinea         80.7          19.3\n",
       "4       5  Johannesburg           South Africa         80.7          19.3\n",
       "..    ...           ...                    ...          ...           ...\n",
       "411   412       Sharjah   United Arab Emirates         15.9          84.1\n",
       "412   413         Ajman   United Arab Emirates         15.5          84.5\n",
       "413   414        Taipei                 Taiwan         15.1          84.9\n",
       "414   415          Doha                  Qatar         14.5          85.5\n",
       "415   416     Abu Dhabi   United Arab Emirates         11.2          88.8\n",
       "\n",
       "[416 rows x 5 columns]"
      ]
     },
     "execution_count": 5,
     "metadata": {},
     "output_type": "execute_result"
    }
   ],
   "source": [
    "df1"
   ]
  },
  {
   "cell_type": "code",
   "execution_count": 17,
   "id": "35c6a7b6-deb5-48c4-8d20-57bc3170027d",
   "metadata": {},
   "outputs": [],
   "source": [
    "\n",
    "# Aggregate Crime Data by Country\n",
    "crime_grouped = df1.groupby(\"Country\", as_index=False).agg({\n",
    "    \"Crime Index\": \"mean\", \n",
    "    \"Safety Index\": \"mean\"\n",
    "})"
   ]
  },
  {
   "cell_type": "code",
   "execution_count": 7,
   "id": "8ada6f7c-f8d5-4a92-8ab0-dbd9b9b6be92",
   "metadata": {},
   "outputs": [
    {
     "data": {
      "text/html": [
       "<div>\n",
       "<style scoped>\n",
       "    .dataframe tbody tr th:only-of-type {\n",
       "        vertical-align: middle;\n",
       "    }\n",
       "\n",
       "    .dataframe tbody tr th {\n",
       "        vertical-align: top;\n",
       "    }\n",
       "\n",
       "    .dataframe thead th {\n",
       "        text-align: right;\n",
       "    }\n",
       "</style>\n",
       "<table border=\"1\" class=\"dataframe\">\n",
       "  <thead>\n",
       "    <tr style=\"text-align: right;\">\n",
       "      <th></th>\n",
       "      <th>Country</th>\n",
       "      <th>Crime Index</th>\n",
       "      <th>Safety Index</th>\n",
       "    </tr>\n",
       "  </thead>\n",
       "  <tbody>\n",
       "    <tr>\n",
       "      <th>0</th>\n",
       "      <td>AB</td>\n",
       "      <td>63.10</td>\n",
       "      <td>36.90</td>\n",
       "    </tr>\n",
       "    <tr>\n",
       "      <th>1</th>\n",
       "      <td>AK</td>\n",
       "      <td>62.30</td>\n",
       "      <td>37.70</td>\n",
       "    </tr>\n",
       "    <tr>\n",
       "      <th>2</th>\n",
       "      <td>AZ</td>\n",
       "      <td>52.55</td>\n",
       "      <td>47.45</td>\n",
       "    </tr>\n",
       "    <tr>\n",
       "      <th>3</th>\n",
       "      <td>Afghanistan</td>\n",
       "      <td>79.80</td>\n",
       "      <td>20.20</td>\n",
       "    </tr>\n",
       "    <tr>\n",
       "      <th>4</th>\n",
       "      <td>Albania</td>\n",
       "      <td>42.30</td>\n",
       "      <td>57.70</td>\n",
       "    </tr>\n",
       "    <tr>\n",
       "      <th>...</th>\n",
       "      <td>...</td>\n",
       "      <td>...</td>\n",
       "      <td>...</td>\n",
       "    </tr>\n",
       "    <tr>\n",
       "      <th>136</th>\n",
       "      <td>Venezuela</td>\n",
       "      <td>83.60</td>\n",
       "      <td>16.40</td>\n",
       "    </tr>\n",
       "    <tr>\n",
       "      <th>137</th>\n",
       "      <td>Vietnam</td>\n",
       "      <td>45.05</td>\n",
       "      <td>54.95</td>\n",
       "    </tr>\n",
       "    <tr>\n",
       "      <th>138</th>\n",
       "      <td>WA</td>\n",
       "      <td>52.80</td>\n",
       "      <td>47.20</td>\n",
       "    </tr>\n",
       "    <tr>\n",
       "      <th>139</th>\n",
       "      <td>WI</td>\n",
       "      <td>50.75</td>\n",
       "      <td>49.25</td>\n",
       "    </tr>\n",
       "    <tr>\n",
       "      <th>140</th>\n",
       "      <td>Zimbabwe</td>\n",
       "      <td>60.60</td>\n",
       "      <td>39.40</td>\n",
       "    </tr>\n",
       "  </tbody>\n",
       "</table>\n",
       "<p>141 rows × 3 columns</p>\n",
       "</div>"
      ],
      "text/plain": [
       "          Country  Crime Index  Safety Index\n",
       "0              AB        63.10         36.90\n",
       "1              AK        62.30         37.70\n",
       "2              AZ        52.55         47.45\n",
       "3     Afghanistan        79.80         20.20\n",
       "4         Albania        42.30         57.70\n",
       "..            ...          ...           ...\n",
       "136     Venezuela        83.60         16.40\n",
       "137       Vietnam        45.05         54.95\n",
       "138            WA        52.80         47.20\n",
       "139            WI        50.75         49.25\n",
       "140      Zimbabwe        60.60         39.40\n",
       "\n",
       "[141 rows x 3 columns]"
      ]
     },
     "execution_count": 7,
     "metadata": {},
     "output_type": "execute_result"
    }
   ],
   "source": [
    "crime_grouped"
   ]
  },
  {
   "cell_type": "code",
   "execution_count": 8,
   "id": "97487957-66b9-4c2d-9711-29f21d5fbc1a",
   "metadata": {},
   "outputs": [
    {
     "ename": "NameError",
     "evalue": "name 'y' is not defined",
     "output_type": "error",
     "traceback": [
      "\u001b[1;31m---------------------------------------------------------------------------\u001b[0m",
      "\u001b[1;31mNameError\u001b[0m                                 Traceback (most recent call last)",
      "Cell \u001b[1;32mIn[8], line 1\u001b[0m\n\u001b[1;32m----> 1\u001b[0m y\u001b[38;5;241m.\u001b[39mshape\n",
      "\u001b[1;31mNameError\u001b[0m: name 'y' is not defined"
     ]
    }
   ],
   "source": [
    "y.shape"
   ]
  },
  {
   "cell_type": "code",
   "execution_count": null,
   "id": "078975e9-25ac-4a45-bb54-1845085a7876",
   "metadata": {},
   "outputs": [],
   "source": [
    "#FINDING THE MISSING VALUES IF PRESENT\n",
    "df1.isnull().sum()"
   ]
  },
  {
   "cell_type": "code",
   "execution_count": 19,
   "id": "26243e07-08fd-42a4-962e-9f6290870553",
   "metadata": {},
   "outputs": [],
   "source": [
    "# FEATURING\n",
    "X=crime_grouped[[\"Safety Index\"]]\n",
    "y=crime_grouped[\"Crime Index\"]"
   ]
  },
  {
   "cell_type": "code",
   "execution_count": 21,
   "id": "7b6ba1d9-49e4-4569-b5b0-c0207f49465d",
   "metadata": {},
   "outputs": [
    {
     "data": {
      "text/html": [
       "<div>\n",
       "<style scoped>\n",
       "    .dataframe tbody tr th:only-of-type {\n",
       "        vertical-align: middle;\n",
       "    }\n",
       "\n",
       "    .dataframe tbody tr th {\n",
       "        vertical-align: top;\n",
       "    }\n",
       "\n",
       "    .dataframe thead th {\n",
       "        text-align: right;\n",
       "    }\n",
       "</style>\n",
       "<table border=\"1\" class=\"dataframe\">\n",
       "  <thead>\n",
       "    <tr style=\"text-align: right;\">\n",
       "      <th></th>\n",
       "      <th>Safety Index</th>\n",
       "    </tr>\n",
       "  </thead>\n",
       "  <tbody>\n",
       "    <tr>\n",
       "      <th>0</th>\n",
       "      <td>36.90</td>\n",
       "    </tr>\n",
       "    <tr>\n",
       "      <th>1</th>\n",
       "      <td>37.70</td>\n",
       "    </tr>\n",
       "    <tr>\n",
       "      <th>2</th>\n",
       "      <td>47.45</td>\n",
       "    </tr>\n",
       "    <tr>\n",
       "      <th>3</th>\n",
       "      <td>20.20</td>\n",
       "    </tr>\n",
       "    <tr>\n",
       "      <th>4</th>\n",
       "      <td>57.70</td>\n",
       "    </tr>\n",
       "    <tr>\n",
       "      <th>...</th>\n",
       "      <td>...</td>\n",
       "    </tr>\n",
       "    <tr>\n",
       "      <th>136</th>\n",
       "      <td>16.40</td>\n",
       "    </tr>\n",
       "    <tr>\n",
       "      <th>137</th>\n",
       "      <td>54.95</td>\n",
       "    </tr>\n",
       "    <tr>\n",
       "      <th>138</th>\n",
       "      <td>47.20</td>\n",
       "    </tr>\n",
       "    <tr>\n",
       "      <th>139</th>\n",
       "      <td>49.25</td>\n",
       "    </tr>\n",
       "    <tr>\n",
       "      <th>140</th>\n",
       "      <td>39.40</td>\n",
       "    </tr>\n",
       "  </tbody>\n",
       "</table>\n",
       "<p>141 rows × 1 columns</p>\n",
       "</div>"
      ],
      "text/plain": [
       "     Safety Index\n",
       "0           36.90\n",
       "1           37.70\n",
       "2           47.45\n",
       "3           20.20\n",
       "4           57.70\n",
       "..            ...\n",
       "136         16.40\n",
       "137         54.95\n",
       "138         47.20\n",
       "139         49.25\n",
       "140         39.40\n",
       "\n",
       "[141 rows x 1 columns]"
      ]
     },
     "execution_count": 21,
     "metadata": {},
     "output_type": "execute_result"
    }
   ],
   "source": [
    "X"
   ]
  },
  {
   "cell_type": "code",
   "execution_count": 23,
   "id": "6bbb983d-472f-48e2-b37e-752ef21ea910",
   "metadata": {},
   "outputs": [
    {
     "data": {
      "text/plain": [
       "0      63.10\n",
       "1      62.30\n",
       "2      52.55\n",
       "3      79.80\n",
       "4      42.30\n",
       "       ...  \n",
       "136    83.60\n",
       "137    45.05\n",
       "138    52.80\n",
       "139    50.75\n",
       "140    60.60\n",
       "Name: Crime Index, Length: 141, dtype: float64"
      ]
     },
     "execution_count": 23,
     "metadata": {},
     "output_type": "execute_result"
    }
   ],
   "source": [
    "y"
   ]
  },
  {
   "cell_type": "code",
   "execution_count": 25,
   "id": "1538c5fb-cc47-480c-a29b-93f8bfa2c3d9",
   "metadata": {},
   "outputs": [],
   "source": [
    "#SPLITING THE DATA\n",
    "X_train , X_test , y_train , y_test = train_test_split(X,y,test_size=0.2, random_state=42)"
   ]
  },
  {
   "cell_type": "code",
   "execution_count": 27,
   "id": "b704067b-a8ba-41bd-8cab-6f2316d52bb9",
   "metadata": {},
   "outputs": [
    {
     "name": "stdout",
     "output_type": "stream",
     "text": [
      "Shape of X: (141, 1)\n",
      "Shape of y: (141,)\n"
     ]
    }
   ],
   "source": [
    "# Debugging: Print shapes of X and y\n",
    "print(\"Shape of X:\", X.shape)\n",
    "print(\"Shape of y:\", y.shape)\n"
   ]
  },
  {
   "cell_type": "code",
   "execution_count": 29,
   "id": "998450d6-2f71-4964-a639-cbeb655e8e78",
   "metadata": {},
   "outputs": [
    {
     "name": "stdout",
     "output_type": "stream",
     "text": [
      "X_train shape: (112, 1) X_test shape: (29, 1)\n",
      "y_train shape: (112,) y_test shape: (29,)\n"
     ]
    }
   ],
   "source": [
    "# Debugging: Print shapes after split\n",
    "print(\"X_train shape:\", X_train.shape, \"X_test shape:\", X_test.shape)\n",
    "print(\"y_train shape:\", y_train.shape, \"y_test shape:\", y_test.shape)"
   ]
  },
  {
   "cell_type": "code",
   "execution_count": 31,
   "id": "ac2feca9-1b46-4225-92c9-d401a51c1e32",
   "metadata": {},
   "outputs": [],
   "source": [
    "# Check if train/test data is empty\n",
    "if X_train.empty or X_test.empty:\n",
    "    print(\"Error: Training or testing data is empty. Check dataset.\")\n",
    "else:\n",
    "    # Train the Linear Regression Model\n",
    "    lr = LinearRegression()\n",
    "    lr.fit(X_train, y_train)"
   ]
  },
  {
   "cell_type": "code",
   "execution_count": 33,
   "id": "2f8c9361-e636-4fe8-bbb1-aeed1f56d487",
   "metadata": {},
   "outputs": [],
   "source": [
    "#MAKING PREDICTIONS\n",
    "y_pred=lr.predict(X_test)"
   ]
  },
  {
   "cell_type": "code",
   "execution_count": 35,
   "id": "678ff97d-e723-49a4-b503-4e93635d777c",
   "metadata": {},
   "outputs": [
    {
     "name": "stdout",
     "output_type": "stream",
     "text": [
      "Crime Data - Mean Squared Error: 1.2795867924688411e-28\n",
      "Crime Data - R-squared Score: 1.0\n"
     ]
    }
   ],
   "source": [
    "  # Evaluate the Model\n",
    "mse = mean_squared_error(y_test, y_pred)\n",
    "r2 = r2_score(y_test, y_pred)\n",
    "print(f\"Crime Data - Mean Squared Error: {mse}\")\n",
    "print(f\"Crime Data - R-squared Score: {r2}\")\n"
   ]
  },
  {
   "cell_type": "code",
   "execution_count": 37,
   "id": "dca36e8d-b62e-453d-b35a-7e516ad6e626",
   "metadata": {},
   "outputs": [
    {
     "data": {
      "text/plain": [
       "100.0"
      ]
     },
     "execution_count": 37,
     "metadata": {},
     "output_type": "execute_result"
    }
   ],
   "source": [
    "lr.score(X_test,y_test)*100"
   ]
  },
  {
   "cell_type": "code",
   "execution_count": 39,
   "id": "f16b4dec-5f7c-4dfa-8ac8-6e0632978762",
   "metadata": {},
   "outputs": [
    {
     "name": "stdout",
     "output_type": "stream",
     "text": [
      "Requirement already satisfied: pyodbc in c:\\users\\mahesh\\anaconda3\\lib\\site-packages (5.0.1)\n",
      "Note: you may need to restart the kernel to use updated packages.\n"
     ]
    }
   ],
   "source": [
    "pip install pyodbc\n"
   ]
  },
  {
   "cell_type": "code",
   "execution_count": 40,
   "id": "c6ae7f70-9dd5-4a4e-9168-281521e3757f",
   "metadata": {},
   "outputs": [
    {
     "name": "stdout",
     "output_type": "stream",
     "text": [
      "Predictions saved to SQL Server successfully!\n"
     ]
    },
    {
     "name": "stderr",
     "output_type": "stream",
     "text": [
      "<>:6: SyntaxWarning: invalid escape sequence '\\V'\n",
      "<>:6: SyntaxWarning: invalid escape sequence '\\V'\n",
      "C:\\Users\\MAHESH\\AppData\\Local\\Temp\\ipykernel_5704\\1060309092.py:6: SyntaxWarning: invalid escape sequence '\\V'\n",
      "  \"SERVER=DESKTOP-8A5LB2O\\VAGISH;\"\n"
     ]
    }
   ],
   "source": [
    "import pyodbc\n",
    "\n",
    "# Database Connection\n",
    "conn = pyodbc.connect(\n",
    "    \"DRIVER={SQL Server};\"\n",
    "    \"SERVER=DESKTOP-8A5LB2O\\VAGISH;\"\n",
    "    \"DATABASE=crime;\"\n",
    "    \"Trusted_Connection=yes;\"\n",
    ")\n",
    "\n",
    "cursor = conn.cursor()\n",
    "\n",
    "# Create Table (if not exists)\n",
    "cursor.execute(\"\"\"\n",
    "IF NOT EXISTS (SELECT * FROM sysobjects WHERE name='ML_Predictions' AND xtype='U')\n",
    "CREATE TABLE ML_Predictions (\n",
    "    ID INT IDENTITY(1,1) PRIMARY KEY,\n",
    "    Actual_Value FLOAT,\n",
    "    Predicted_Value FLOAT\n",
    ")\n",
    "\"\"\")\n",
    "\n",
    "# Insert Predictions into SQL Server\n",
    "for actual, predicted in zip(y_test, y_pred):\n",
    "    cursor.execute(\"INSERT INTO ML_Predictions (Actual_Value, Predicted_Value) VALUES (?, ?)\", actual, predicted)\n",
    "\n",
    "conn.commit()\n",
    "cursor.close()\n",
    "conn.close()\n",
    "\n",
    "print(\"Predictions saved to SQL Server successfully!\")\n"
   ]
  },
  {
   "cell_type": "code",
   "execution_count": null,
   "id": "ca336115-8a84-45f5-940a-b232819800af",
   "metadata": {},
   "outputs": [],
   "source": []
  }
 ],
 "metadata": {
  "kernelspec": {
   "display_name": "Python 3 (ipykernel)",
   "language": "python",
   "name": "python3"
  },
  "language_info": {
   "codemirror_mode": {
    "name": "ipython",
    "version": 3
   },
   "file_extension": ".py",
   "mimetype": "text/x-python",
   "name": "python",
   "nbconvert_exporter": "python",
   "pygments_lexer": "ipython3",
   "version": "3.12.4"
  }
 },
 "nbformat": 4,
 "nbformat_minor": 5
}
